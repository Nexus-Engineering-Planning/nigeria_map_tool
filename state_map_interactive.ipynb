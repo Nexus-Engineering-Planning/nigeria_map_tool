{
 "cells": [
  {
   "cell_type": "markdown",
   "id": "81cd214d-746f-43b9-8b9e-6b358515ed7b",
   "metadata": {},
   "source": [
    "# Step 1: Import Necessary Libraries"
   ]
  },
  {
   "cell_type": "code",
   "execution_count": 2,
   "id": "f7090e2d-5a7a-418a-ae6d-c5637e3c1baf",
   "metadata": {},
   "outputs": [],
   "source": [
    "import geopandas as gpd\n",
    "import json"
   ]
  },
  {
   "cell_type": "markdown",
   "id": "f23b72f9-f341-4d29-b9a6-409ae5807ffc",
   "metadata": {},
   "source": [
    "# Step 2: Load Cleaned Data"
   ]
  },
  {
   "cell_type": "code",
   "execution_count": 3,
   "id": "dfb1dba2-4cba-45f1-9349-5b350cfca372",
   "metadata": {},
   "outputs": [],
   "source": [
    "# Load cleaned GeoJSON data\n",
    "state_boundaries = gpd.read_file(\"state_geojson.geojson\")\n",
    "lga_boundaries = gpd.read_file(\"lga_geojson.geojson\")\n",
    "ward_boundaries = gpd.read_file(\"ward_geojson.geojson\")"
   ]
  },
  {
   "cell_type": "markdown",
   "id": "9421cfd9-9f7c-4577-af29-69ba0a1486cc",
   "metadata": {},
   "source": [
    "# Step 3: Create State-to-LGA and LGA-to-Ward Relationships"
   ]
  },
  {
   "cell_type": "code",
   "execution_count": 6,
   "id": "6fca7083-d487-446c-91ba-65a8de8d9eff",
   "metadata": {},
   "outputs": [],
   "source": [
    "# Create mappings\n",
    "state_to_lga = lga_boundaries.groupby(\"statename\")[\"lganame\"].apply(list).to_dict()\n",
    "lga_to_ward = ward_boundaries.groupby(\"lganame\")[\"wardname\"].apply(list).to_dict()\n",
    "\n",
    "# Generate HTML with full state names\n",
    "state_options = \"\".join([f'<option value=\"{state}\">{state}</option>' for state in state_to_lga.keys()])"
   ]
  },
  {
   "cell_type": "markdown",
   "id": "584f65fe-9ede-46cd-a5c9-1011705d4f16",
   "metadata": {},
   "source": [
    "# Step 4: Convert GeoDataFrames to GeoJSON"
   ]
  },
  {
   "cell_type": "code",
   "execution_count": 7,
   "id": "342cb78a-206e-4975-8aaf-85fc4a7b29d4",
   "metadata": {},
   "outputs": [],
   "source": [
    "# Convert to GeoJSON format\n",
    "state_geojson = state_boundaries.to_crs(epsg=4326).to_json()\n",
    "lga_geojson = lga_boundaries.to_crs(epsg=4326).to_json()\n",
    "ward_geojson = ward_boundaries.to_crs(epsg=4326).to_json()\n"
   ]
  },
  {
   "cell_type": "markdown",
   "id": "5600898f-2078-43f5-bcde-5ce9a72e9748",
   "metadata": {},
   "source": [
    "# Step 5: Generate HTML for Interactive Map"
   ]
  },
  {
   "cell_type": "code",
   "execution_count": 8,
   "id": "59796d2f-cf37-4a0d-a974-9f9be4cb864e",
   "metadata": {},
   "outputs": [
    {
     "name": "stdout",
     "output_type": "stream",
     "text": [
      "Available fields:\n",
      "['wardname', 'wardcode', 'lganame', 'lgacode', 'statename', 'statecode', 'geometry']\n",
      "\n",
      "Sample data:\n",
      "     wardname  wardcode        lganame lgacode    statename statecode  \\\n",
      "0       Ikuru  RVSNDN06         Andoni   33005       Rivers        RI   \n",
      "1  Aktward 17  RVSABM17     Akuku Toru   33004       Rivers        RI   \n",
      "2   Aktward 1  RVSABM01     Akuku Toru   33004       Rivers        RI   \n",
      "3     Ward 12  CRSANA12  Calabar South    9009  Cross River        CR   \n",
      "4     Koluama  BYSSPR09  Southern Ijaw    6007      Bayelsa        BY   \n",
      "\n",
      "                                            geometry  \n",
      "0  POLYGON ((7.39065 4.43648, 7.38503 4.47910, 7....  \n",
      "1  POLYGON ((6.71866 4.61093, 6.71477 4.62050, 6....  \n",
      "2  POLYGON ((6.82083 4.63792, 6.83814 4.61875, 6....  \n",
      "3  POLYGON ((8.30619 4.98152, 8.30968 4.97872, 8....  \n",
      "4  POLYGON ((5.98169 4.42706, 5.97855 4.41279, 5....  \n",
      "\n",
      "Unique values for a field (e.g., if there's a 'type' field):\n",
      "\n",
      "Summary statistics for numeric fields:\n",
      "          wardname  wardcode   lganame lgacode statename statecode  \\\n",
      "count         9410      9410      9410    9410      9410      9410   \n",
      "unique        8894      9410       769     774        37        37   \n",
      "top     Sabon Gari  RVSNDN06  Alimosho   25003      Kano        KN   \n",
      "freq            11         1        36      36       484       484   \n",
      "\n",
      "                                                 geometry  \n",
      "count                                                9308  \n",
      "unique                                               9308  \n",
      "top     POLYGON ((7.39065307318083 4.43647763473513, 7...  \n",
      "freq                                                    1  \n",
      "\n",
      "Data types:\n",
      "wardname       object\n",
      "wardcode       object\n",
      "lganame        object\n",
      "lgacode        object\n",
      "statename      object\n",
      "statecode      object\n",
      "geometry     geometry\n",
      "dtype: object\n",
      "\n",
      "Field information saved to ward_fields.json\n"
     ]
    }
   ],
   "source": [
    "# Read the GeoJSON file\n",
    "ward_gdf = gpd.read_file('ward_geojson.geojson')\n",
    "\n",
    "# Display the column names (fields)\n",
    "print(\"Available fields:\")\n",
    "print(ward_gdf.columns.tolist())\n",
    "\n",
    "# Display the first few rows to see example values\n",
    "print(\"\\nSample data:\")\n",
    "print(ward_gdf.head())\n",
    "\n",
    "# If you want to see all unique values for a specific field\n",
    "print(\"\\nUnique values for a field (e.g., if there's a 'type' field):\")\n",
    "if 'type' in ward_gdf.columns:\n",
    "    print(ward_gdf['type'].unique())\n",
    "\n",
    "# Get summary statistics for numeric fields\n",
    "print(\"\\nSummary statistics for numeric fields:\")\n",
    "print(ward_gdf.describe())\n",
    "\n",
    "# Check the data types of each field\n",
    "print(\"\\nData types:\")\n",
    "print(ward_gdf.dtypes)\n",
    "\n",
    "# Save fields to a JSON file for reference\n",
    "field_info = {\n",
    "    'fields': ward_gdf.columns.tolist(),\n",
    "    'dtypes': {col: str(dtype) for col, dtype in zip(ward_gdf.columns, ward_gdf.dtypes)}\n",
    "}\n",
    "with open('ward_fields.json', 'w') as f:\n",
    "    json.dump(field_info, f, indent=4)\n",
    "print(\"\\nField information saved to ward_fields.json\")"
   ]
  },
  {
   "cell_type": "markdown",
   "id": "277e4811-87a8-4534-ba9b-26c87f58daea",
   "metadata": {},
   "source": [
    "# Interactive map 2"
   ]
  },
  {
   "cell_type": "markdown",
   "id": "94141dff-dd49-44d5-b518-ff8c81f06693",
   "metadata": {},
   "source": []
  },
  {
   "cell_type": "code",
   "execution_count": null,
   "id": "24888164-3d8a-436a-a3e4-c0d56e5b29c4",
   "metadata": {},
   "outputs": [],
   "source": []
  },
  {
   "cell_type": "code",
   "execution_count": null,
   "id": "5e71fa3c-9bba-41ce-ba92-be51af370ca7",
   "metadata": {},
   "outputs": [],
   "source": []
  }
 ],
 "metadata": {
  "kernelspec": {
   "display_name": "pythongis",
   "language": "python",
   "name": "python3"
  },
  "language_info": {
   "codemirror_mode": {
    "name": "ipython",
    "version": 3
   },
   "file_extension": ".py",
   "mimetype": "text/x-python",
   "name": "python",
   "nbconvert_exporter": "python",
   "pygments_lexer": "ipython3",
   "version": "3.11.5"
  }
 },
 "nbformat": 4,
 "nbformat_minor": 5
}
